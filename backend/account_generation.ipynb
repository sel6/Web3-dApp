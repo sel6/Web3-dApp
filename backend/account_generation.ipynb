{
 "cells": [
  {
   "cell_type": "code",
   "execution_count": 38,
   "metadata": {},
   "outputs": [],
   "source": [
    "# build transaction\n",
    "from algosdk.future import transaction\n",
    "from algosdk import constants\n",
    "from algosdk.v2client import algod\n",
    "from algosdk import account, mnemonic\n",
    "import base64\n",
    "import logging\n"
   ]
  },
  {
   "cell_type": "code",
   "execution_count": 39,
   "metadata": {},
   "outputs": [],
   "source": [
    "logger = logging.getLogger(__name__)\n",
    "logger.setLevel(logging.INFO)\n",
    "file_handler = logging.FileHandler(\"../logs/new_account_info.log\")\n",
    "formatter = logging.Formatter(\n",
    "    \"%(message)s \\n\")\n",
    "file_handler.setFormatter(formatter)\n",
    "logger.addHandler(file_handler)"
   ]
  },
  {
   "cell_type": "code",
   "execution_count": 40,
   "metadata": {},
   "outputs": [],
   "source": [
    "authorized_accounts = [\"one\", \"two\", \"three\"]\n",
    "test_account = \"three\"\n",
    "def check_availability():\n",
    "    status = 0\n",
    "    for i in range(len(authorized_accounts)):\n",
    "        if(test_account == authorized_accounts[i]):\n",
    "            status = 1\n",
    "        else:\n",
    "            status = 0\n",
    "    return status"
   ]
  },
  {
   "cell_type": "code",
   "execution_count": 41,
   "metadata": {},
   "outputs": [
    {
     "data": {
      "text/plain": [
       "1"
      ]
     },
     "execution_count": 41,
     "metadata": {},
     "output_type": "execute_result"
    }
   ],
   "source": [
    "check_availability()"
   ]
  },
  {
   "cell_type": "code",
   "execution_count": 42,
   "metadata": {},
   "outputs": [],
   "source": [
    "# create dummy accounts.\n",
    "\n",
    "def generate_algorand_keypair():\n",
    "    private_key, address = account.generate_account()\n",
    "    passphrase = mnemonic.from_private_key(private_key)\n",
    "    _account = {\"passphrase\":passphrase, \"private_key\":private_key, \"address\": address}\n",
    "    return _account\n"
   ]
  },
  {
   "cell_type": "code",
   "execution_count": 43,
   "metadata": {},
   "outputs": [],
   "source": [
    "def get_private_key_from_mnemonic(mn) :\n",
    "    private_key = mnemonic.to_private_key(mn)\n",
    "    return private_key"
   ]
  },
  {
   "cell_type": "code",
   "execution_count": 44,
   "metadata": {},
   "outputs": [],
   "source": [
    "\n",
    "def get_client(addr, token):\n",
    "    algod_client = algod.AlgodClient(token, addr)\n",
    "    return algod_client"
   ]
  },
  {
   "cell_type": "code",
   "execution_count": 45,
   "metadata": {},
   "outputs": [],
   "source": [
    "def fund_account(client, sender, receiver, amount):\n",
    "    params = client.suggested_params()\n",
    "    params.flat_fee = True\n",
    "    params.fee = constants.MIN_TXN_FEE \n",
    "    note = \"Hello World\".encode()\n",
    "    unsigned_txn = transaction.PaymentTxn(sender, params, receiver, amount, None, note)\n",
    "\n",
    "    return unsigned_txn, params.fee"
   ]
  },
  {
   "cell_type": "code",
   "execution_count": 46,
   "metadata": {},
   "outputs": [],
   "source": [
    "# sign transaction\n",
    "\n",
    "def sign_transaction(private_key, unsigned_txn):\n",
    "    signed_txn = unsigned_txn.sign(private_key)\n",
    "\n",
    "    return signed_txn"
   ]
  },
  {
   "cell_type": "code",
   "execution_count": 47,
   "metadata": {},
   "outputs": [],
   "source": [
    "def send_trans(client, signed_txn):\n",
    "    txid = client.send_transaction(signed_txn)\n",
    "\n",
    "    # # wait for confirmation \n",
    "    try:\n",
    "        confirmed_txn = transaction.wait_for_confirmation(client, txid, 4)  \n",
    "        print(\"Successfully sent transaction with txID: {}\".format(txid))\n",
    "        return [txid, confirmed_txn]\n",
    "    except Exception as err:\n",
    "        print(err)\n",
    "        print(\"Transaction with txID failed: {}\".format(txid))\n",
    "        return [txid, \"failed\"]\n",
    "    "
   ]
  },
  {
   "cell_type": "code",
   "execution_count": 48,
   "metadata": {},
   "outputs": [],
   "source": [
    "def create_funded_accounts(num_accounts, client, sender, amount):\n",
    "    for i in range(num_accounts):\n",
    "        account = generate_algorand_keypair()\n",
    "        # fund created account\n",
    "        account_info = client.account_info(account[\"address\"])\n",
    "        transaction, fee = fund_account(client, sender[\"address\"], account[\"address\"], amount)\n",
    "        # sign transaction\n",
    "        signed_txn = sign_transaction(sender[\"private_key\"], transaction)\n",
    "        # send transaction\n",
    "        info = send_trans(client, signed_txn)\n",
    "        if(info[1] != \"failed\"):\n",
    "            confirmed_txn = info[1]\n",
    "            logger.info(\"*\"*50)\n",
    "            logger.info(\"*\"*50)\n",
    "            logger.info(account)\n",
    "            logger.info(\"*\"*50)\n",
    "            logger.info(\"Decoded note: {}\".format(base64.b64decode(\n",
    "                confirmed_txn[\"txn\"][\"txn\"][\"note\"]).decode()))\n",
    "            \n",
    "            logger.info(\"Starting Account balance: {} microAlgos\".format(account_info.get('amount')) )\n",
    "            logger.info(\"Amount transfered: {} microAlgos\".format(amount) )    \n",
    "            logger.info(\"Fee: {} microAlgos\".format(fee) ) \n",
    "            account_info = client.account_info(account[\"address\"])\n",
    "            logger.info(\"Final Account balance: {} microAlgos\".format(account_info.get('amount')) + \"\\n\")\n",
    "            logger.info(\"\\n\")\n",
    "            \n",
    "        "
   ]
  },
  {
   "cell_type": "code",
   "execution_count": 50,
   "metadata": {},
   "outputs": [
    {
     "name": "stdout",
     "output_type": "stream",
     "text": [
      "Successfully sent transaction with txID: HHHMB6GNXLQHUAVTXMFOAFUCBSDIK22GBQLMT7LYAYL2H54BHQVA\n",
      "Successfully sent transaction with txID: TS53BWE7YJPWEXS37PPBSUEGRL2Z34LJVD3M4BPJTZ7KIA72C55A\n",
      "Successfully sent transaction with txID: S4LBDNIPA74UTUBVBAXESOVTNRZT3CYNHEBVY7GEUGJECRZ3BHCA\n"
     ]
    }
   ],
   "source": [
    "#initilize client\n",
    "algod_address = \"http://localhost:4001\"\n",
    "algod_token = \"aaaaaaaaaaaaaaaaaaaaaaaaaaaaaaaaaaaaaaaaaaaaaaaaaaaaaaaaaaaaaaaa\"\n",
    "client = get_client(algod_address, algod_token)\n",
    "num_accounts = 3\n",
    "sender_addr = \"L6ZS626IHSZN7SB6B2WFVW4G6EL2VNKGPP6KQB2FMOQOCRLAZFG3C5BIIY\"\n",
    "sender_pass = \"dove tomato solid light purpose shrug shaft blade scrub ten peace bulk \\\n",
    "                net dynamic broken exotic dog knife method august goat drive recycle abandon limb\"\n",
    "sender_private = get_private_key_from_mnemonic(sender_pass)\n",
    "sender = {\"passphrase\":sender_pass, \"private_key\":sender_private, \"address\": sender_addr}\n",
    "amount = 100000\n",
    "\n",
    "# create funded accounts\n",
    "create_funded_accounts(num_accounts, client, sender, amount)\n"
   ]
  },
  {
   "cell_type": "code",
   "execution_count": null,
   "metadata": {},
   "outputs": [],
   "source": []
  }
 ],
 "metadata": {
  "kernelspec": {
   "display_name": "Python 3 (ipykernel)",
   "language": "python",
   "name": "python3"
  },
  "language_info": {
   "codemirror_mode": {
    "name": "ipython",
    "version": 3
   },
   "file_extension": ".py",
   "mimetype": "text/x-python",
   "name": "python",
   "nbconvert_exporter": "python",
   "pygments_lexer": "ipython3",
   "version": "3.10.4"
  },
  "vscode": {
   "interpreter": {
    "hash": "a007d0015833e9236a79f92c0a64391d056750d045acb7dec5d5fc4694859575"
   }
  }
 },
 "nbformat": 4,
 "nbformat_minor": 4
}
