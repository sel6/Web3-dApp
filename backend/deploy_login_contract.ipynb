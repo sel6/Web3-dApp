{
 "cells": [
  {
   "cell_type": "code",
   "execution_count": 1,
   "id": "98317dd7-c0fb-4ce3-bb69-777034869eb6",
   "metadata": {},
   "outputs": [],
   "source": [
    "# build transaction\n",
    "from algosdk.future import transaction\n",
    "from algosdk import constants\n",
    "from algosdk.v2client import algod\n",
    "from algosdk import account, mnemonic\n",
    "import base64\n",
    "import logging\n",
    "import sys\n",
    "from pyteal import *"
   ]
  },
  {
   "cell_type": "code",
   "execution_count": 2,
   "id": "7a9c48d3-216f-4a37-bbb0-d22b6b6c3e5d",
   "metadata": {},
   "outputs": [],
   "source": [
    "sys.path.insert(1, '../contracts')\n",
    "sys.path.append(\"..\")\n",
    "sys.path.append(\".\")\n",
    "\n",
    "from test_contract import approval_program, clear_state_program"
   ]
  },
  {
   "cell_type": "code",
   "execution_count": 3,
   "id": "ef762f18-4eb0-4bf4-8645-d9385083c0f6",
   "metadata": {},
   "outputs": [],
   "source": [
    "def get_private_key_from_mnemonic(mn) :\n",
    "    private_key = mnemonic.to_private_key(mn)\n",
    "    return private_key\n",
    "\n",
    "def compile_program(client, contract):\n",
    "    teal = compileTeal(contract, mode=Mode.Application, version=5)\n",
    "    response = client.compile(teal)\n",
    "    return base64.b64decode(response[\"result\"])\n",
    "\n",
    "\n",
    "def get_client(addr, token):\n",
    "    algod_client = algod.AlgodClient(token, addr)\n",
    "    return algod_client"
   ]
  },
  {
   "cell_type": "code",
   "execution_count": 4,
   "id": "58e9f265-8976-4785-849c-db840754d607",
   "metadata": {},
   "outputs": [],
   "source": [
    "algod_address = \"http://localhost:4001\"\n",
    "algod_token = \"aaaaaaaaaaaaaaaaaaaaaaaaaaaaaaaaaaaaaaaaaaaaaaaaaaaaaaaaaaaaaaaa\"\n",
    "client = get_client(algod_address, algod_token)\n",
    "sender_addr = \"L6ZS626IHSZN7SB6B2WFVW4G6EL2VNKGPP6KQB2FMOQOCRLAZFG3C5BIIY\"\n",
    "sender_pass = \"dove tomato solid light purpose shrug shaft blade scrub ten peace bulk \\\n",
    "                net dynamic broken exotic dog knife method august goat drive recycle abandon limb\"\n",
    "sender_private = get_private_key_from_mnemonic(sender_pass)\n",
    "sender = {\"passphrase\":sender_pass, \"private_key\":sender_private, \"address\": sender_addr}"
   ]
  },
  {
   "cell_type": "code",
   "execution_count": 5,
   "id": "0b839a28-6269-4e09-8d96-7836f5d86fda",
   "metadata": {},
   "outputs": [],
   "source": [
    "# create new application\n",
    "def create_app(client, private_key, approval_program, clear_program, global_schema, local_schema, app_args):\n",
    "    # define sender as creator\n",
    "    sender = account.address_from_private_key(private_key)\n",
    "\n",
    "    # declare on_complete as NoOp\n",
    "    on_complete = transaction.OnComplete.NoOpOC.real\n",
    "\n",
    "    # get node suggested parameters\n",
    "    params = client.suggested_params()\n",
    "    \n",
    "    # create unsigned transaction\n",
    "    txn = transaction.ApplicationCreateTxn(\n",
    "        sender=sender,\n",
    "        on_complete=on_complete,\n",
    "        approval_program=approval_program,\n",
    "        clear_program=clear_program,\n",
    "        global_schema=global_schema,\n",
    "        local_schema=local_schema,\n",
    "        app_args=app_args,\n",
    "        sp=params,\n",
    "    )\n",
    "    \n",
    "    # sign transaction\n",
    "    signed_txn = txn.sign(private_key)\n",
    "    tx_id = signed_txn.transaction.get_txid()\n",
    "\n",
    "    # send transaction\n",
    "    client.send_transactions([signed_txn])\n",
    "\n",
    "    # wait for confirmation\n",
    "    try:\n",
    "        transaction_response = transaction.wait_for_confirmation(client, tx_id, 4)\n",
    "        print(\"TXID: \", tx_id)\n",
    "        print(\"Result confirmed in round: {}\".format(transaction_response['confirmed-round']))\n",
    "\n",
    "    except Exception as err:\n",
    "        print(err)\n",
    "        return\n",
    "\n",
    "    # display results\n",
    "    transaction_response = client.pending_transaction_info(tx_id)\n",
    "    app_id = transaction_response['application-index']\n",
    "    print(\"Created new app-id:\", app_id)\n",
    "\n",
    "    return app_id\n"
   ]
  },
  {
   "cell_type": "code",
   "execution_count": 6,
   "id": "c3f3eb33-22ef-47e2-82fc-bad7e4beeee7",
   "metadata": {},
   "outputs": [],
   "source": [
    "# helper function that formats global state for printing\n",
    "def format_state(state):\n",
    "    formatted = {}\n",
    "    for item in state:\n",
    "        key = item['key']\n",
    "        value = item['value']\n",
    "        formatted_key = base64.b64decode(key).decode('utf-8')\n",
    "        if value['type'] == 1:\n",
    "            # byte string\n",
    "            if formatted_key == 'voted':\n",
    "                formatted_value = base64.b64decode(value['bytes']).decode('utf-8')\n",
    "            else:\n",
    "                formatted_value = value['bytes']\n",
    "            formatted[formatted_key] = formatted_value\n",
    "        else:\n",
    "            # integer\n",
    "            formatted[formatted_key] = value['uint']\n",
    "    return formatted\n",
    "\n",
    "# helper function to read app global state\n",
    "def read_global_state(client, app_id):\n",
    "    app = client.application_info(app_id)\n",
    "    global_state = app['params']['global-state'] if \"global-state\" in app['params'] else []\n",
    "    return format_state(global_state)"
   ]
  },
  {
   "cell_type": "code",
   "execution_count": 7,
   "id": "caa82dff-af94-40ff-b1d1-316759344d40",
   "metadata": {},
   "outputs": [
    {
     "name": "stdout",
     "output_type": "stream",
     "text": [
      "--------------------------------------------\n",
      "Deploying Counter application......\n",
      "TXID:  UM2EHMTBAFWKYHLBBPKBISEMKUSCEWL4WGLNDC2GV7FL3N5QA4HA\n",
      "Result confirmed in round: 6923\n",
      "Created new app-id: 16\n",
      "Global state: {'Creator': 'X7Mva8g8st/IPg6sWtuG8ReqtUZ7/KgHRWOg4UVgyU0=', 'member4': 'NlVNU05DWlVOV09UV0FZUlFLRTNDVjZKWFNWTFBZQTRCTUc3N0NLWk03NVZBU0FBT0ZTTE5LVEFMQQ==', 'member1': 'b25l', 'member2': 'dHdv', 'member3': 'TDZaUzYyNklIU1pON1NCNkIyV0ZWVzRHNkVMMlZOS0dQUDZLUUIyRk1PUU9DUkxBWkZHM0M1QklJWQ=='}\n"
     ]
    }
   ],
   "source": [
    "# declare application state storage (immutable)\n",
    "local_ints = 0\n",
    "local_bytes = 0\n",
    "global_ints = 1\n",
    "global_bytes = 10\n",
    "global_schema = transaction.StateSchema(global_ints, global_bytes)\n",
    "local_schema = transaction.StateSchema(local_ints, local_bytes)\n",
    "print(\"--------------------------------------------\")\n",
    "print(\"Deploying Counter application......\")\n",
    "\n",
    "# compile program to binary\n",
    "approval_program_compiled = compile_program(client, approval_program())\n",
    "\n",
    "# compile program to binary\n",
    "clear_state_program_compiled = compile_program(client, clear_state_program())\n",
    "\n",
    "members_list = [\"one\", \"two\", \"L6ZS626IHSZN7SB6B2WFVW4G6EL2VNKGPP6KQB2FMOQOCRLAZFG3C5BIIY\", \"6UMSNCZUNWOTWAYRQKE3CV6JXSVLPYA4BMG77CKZM75VASAAOFSLNKTALA\"]\n",
    "# create new application\n",
    "app_id = create_app(client, sender[\"private_key\"], approval_program_compiled, clear_state_program_compiled, \n",
    "                    global_schema, local_schema, members_list)\n",
    "\n",
    "# read global state of application\n",
    "print(\"Global state:\", read_global_state(client, app_id))"
   ]
  },
  {
   "cell_type": "code",
   "execution_count": 8,
   "id": "1951c8e6-2488-49d0-9040-cb52248f9e90",
   "metadata": {},
   "outputs": [],
   "source": [
    "# call application\n",
    "def call_app(client, private_key, index, app_args) :\n",
    "    # declare sender\n",
    "    sender = account.address_from_private_key(private_key)\n",
    "\n",
    "    # get node suggested parameters\n",
    "    params = client.suggested_params()\n",
    "\n",
    "    # create unsigned transaction\n",
    "    txn = transaction.ApplicationNoOpTxn(sender, params, index, app_args)\n",
    "    \n",
    "\n",
    "    # sign transaction\n",
    "    signed_txn = txn.sign(private_key)\n",
    "    tx_id = signed_txn.transaction.get_txid()\n",
    "\n",
    "    # send transaction\n",
    "    client.send_transactions([signed_txn])\n",
    "\n",
    "    # wait for confirmation\n",
    "    try:\n",
    "        transaction_response = transaction.wait_for_confirmation(client, tx_id, 5)\n",
    "        print(\"TXID: \", tx_id)\n",
    "        print(\"Result confirmed in round: {}\".format(transaction_response['confirmed-round']))\n",
    "\n",
    "    except Exception as err:\n",
    "        print(err)\n",
    "        return\n",
    "    print(\"Application called\")\n"
   ]
  },
  {
   "cell_type": "code",
   "execution_count": 9,
   "id": "74b73cd6-df06-4206-9c6e-364922c062ce",
   "metadata": {},
   "outputs": [],
   "source": [
    "sender2_addr = \"6UMSNCZUNWOTWAYRQKE3CV6JXSVLPYA4BMG77CKZM75VASAAOFSLNKTALA\"\n",
    "sender2_pass = \"select canyon order half resemble clever tissue panther tunnel agent inspire \\\n",
    "            degree system donate gorilla strong vocal divide about magic vessel beef throw ability idea\"\n",
    "sender2_private = get_private_key_from_mnemonic(sender_pass)\n",
    "sender2 = {\"passphrase\":sender2_pass, \"private_key\":sender2_private, \"address\": sender2_addr}"
   ]
  },
  {
   "cell_type": "code",
   "execution_count": 10,
   "id": "90e112f6-5918-49c3-bc95-a4b657cfa5fa",
   "metadata": {},
   "outputs": [
    {
     "name": "stdout",
     "output_type": "stream",
     "text": [
      "--------------------------------------------\n",
      "Calling Counter application......\n",
      "TXID:  SGWTW5GXIP4462Z6FDMTAPGCD2AUKRZOMVSYCDDG5NIJS2XV25LA\n",
      "Result confirmed in round: 6925\n",
      "Application called\n",
      "Global state: {'member2': 'dHdv', 'member3': 'TDZaUzYyNklIU1pON1NCNkIyV0ZWVzRHNkVMMlZOS0dQUDZLUUIyRk1PUU9DUkxBWkZHM0M1QklJWQ==', 'Count': 1, 'member4': 'NlVNU05DWlVOV09UV0FZUlFLRTNDVjZKWFNWTFBZQTRCTUc3N0NLWk03NVZBU0FBT0ZTTE5LVEFMQQ==', 'Creator': 'X7Mva8g8st/IPg6sWtuG8ReqtUZ7/KgHRWOg4UVgyU0=', 'member1': 'b25l'}\n"
     ]
    }
   ],
   "source": [
    "print(\"--------------------------------------------\")\n",
    "print(\"Calling Counter application......\")\n",
    "app_args = [\"6UMSNCZUNWOTWAYRQKE3CV6JXSVLPYA4BMG77CKZM75VASAAOFSLNKTALA\"]\n",
    "call_app(client, sender2_private, app_id, app_args)\n",
    "\n",
    "# read global state of application\n",
    "print(\"Global state:\", read_global_state(client, app_id))\n"
   ]
  },
  {
   "cell_type": "code",
   "execution_count": null,
   "id": "78d78c58-2328-48e0-93ae-8588d62fe298",
   "metadata": {},
   "outputs": [],
   "source": []
  }
 ],
 "metadata": {
  "kernelspec": {
   "display_name": "Python 3 (ipykernel)",
   "language": "python",
   "name": "python3"
  },
  "language_info": {
   "codemirror_mode": {
    "name": "ipython",
    "version": 3
   },
   "file_extension": ".py",
   "mimetype": "text/x-python",
   "name": "python",
   "nbconvert_exporter": "python",
   "pygments_lexer": "ipython3",
   "version": "3.10.4"
  }
 },
 "nbformat": 4,
 "nbformat_minor": 5
}
