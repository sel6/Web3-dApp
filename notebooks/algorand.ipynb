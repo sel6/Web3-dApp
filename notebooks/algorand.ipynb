{
 "cells": [
  {
   "cell_type": "markdown",
   "id": "8471e9df",
   "metadata": {},
   "source": [
    "* Create Account"
   ]
  },
  {
   "cell_type": "code",
   "execution_count": 2,
   "id": "433a9380",
   "metadata": {},
   "outputs": [
    {
     "name": "stdout",
     "output_type": "stream",
     "text": [
      "My address: B7IVJH7QYV6DNRUDMSCKW3WSJE3COIHO4ZLKHFSR2MM7ZFFHYFZSDZUURQ\n",
      "My private key: cR/KnsLyAw1Xmms+RusrtzFHyT/IbsIYl43kJMmsX/IP0VSf8MV8NsaDZISrbtJJNicg7uZWo5ZR0xn8lKfBcw==\n",
      "My passphrase: until chronic exhaust club among select sport high sick public nominee bread mobile venture draft human blue fragile egg exact myself twenty napkin abstract panel\n"
     ]
    }
   ],
   "source": [
    "from algosdk import account, mnemonic\n",
    "def generate_algorand_keypair():\n",
    "    private_key, address = account.generate_account()\n",
    "    print(\"My address: {}\".format(address))\n",
    "    print(\"My private key: {}\".format(private_key))\n",
    "    print(\"My passphrase: {}\".format(mnemonic.from_private_key(private_key)))\n",
    "\n",
    "generate_algorand_keypair()"
   ]
  },
  {
   "cell_type": "markdown",
   "id": "9b4c547f",
   "metadata": {},
   "source": [
    "* Connect your client"
   ]
  },
  {
   "cell_type": "code",
   "execution_count": 12,
   "id": "9637036e",
   "metadata": {},
   "outputs": [
    {
     "data": {
      "text/plain": [
       "<algosdk.v2client.algod.AlgodClient at 0x7f96ef717250>"
      ]
     },
     "execution_count": 12,
     "metadata": {},
     "output_type": "execute_result"
    }
   ],
   "source": [
    "from algosdk.v2client import algod\n",
    "\n",
    "def first_transaction_example(private_key, my_address):\n",
    "    algod_address = \"http://localhost:4001\"\n",
    "    algod_token = \"aaaaaaaaaaaaaaaaaaaaaaaaaaaaaaaaaaaaaaaaaaaaaaaaaaaaaaaaaaaaaaaa\"\n",
    "    algod_client = algod.AlgodClient(algod_token, algod_address)\n",
    "    return algod_client\n",
    "    \n",
    "first_transaction_example(\"cR/KnsLyAw1Xmms+RusrtzFHyT/IbsIYl43kJMmsX/IP0VSf8MV8NsaDZISrbtJJNicg7uZWo5ZR0xn8lKfBcw==\", \"B7IVJH7QYV6DNRUDMSCKW3WSJE3COIHO4ZLKHFSR2MM7ZFFHYFZSDZUURQ\")"
   ]
  },
  {
   "cell_type": "markdown",
   "id": "76ca6c37",
   "metadata": {},
   "source": [
    "* Check Balance"
   ]
  },
  {
   "cell_type": "code",
   "execution_count": 14,
   "id": "b6344524",
   "metadata": {},
   "outputs": [
    {
     "name": "stdout",
     "output_type": "stream",
     "text": [
      "Account balance: 0 microAlgos\n",
      "\n"
     ]
    }
   ],
   "source": [
    "connect = first_transaction_example(\"cR/KnsLyAw1Xmms+RusrtzFHyT/IbsIYl43kJMmsX/IP0VSf8MV8NsaDZISrbtJJNicg7uZWo5ZR0xn8lKfBcw==\", \"B7IVJH7QYV6DNRUDMSCKW3WSJE3COIHO4ZLKHFSR2MM7ZFFHYFZSDZUURQ\")\n",
    "account_info = connect.account_info(\"B7IVJH7QYV6DNRUDMSCKW3WSJE3COIHO4ZLKHFSR2MM7ZFFHYFZSDZUURQ\")\n",
    "print(\"Account balance: {} microAlgos\".format(account_info.get('amount')) + \"\\n\")\n"
   ]
  },
  {
   "cell_type": "markdown",
   "id": "23c8734c",
   "metadata": {},
   "source": [
    "* Build first transaction"
   ]
  },
  {
   "cell_type": "code",
   "execution_count": 17,
   "id": "165716ab",
   "metadata": {},
   "outputs": [],
   "source": [
    "# build transaction\n",
    "from algosdk.future import transaction\n",
    "from algosdk import constants\n",
    "\n",
    "\n",
    "params = connect.suggested_params()\n",
    "# comment out the next two (2) lines to use suggested fees\n",
    "params.flat_fee = True\n",
    "params.fee = constants.MIN_TXN_FEE \n",
    "receiver = \"HZ57J3K46JIJXILONBBZOHX6BKPXEM2VVXNRFSUED6DKFD5ZD24PMJ3MVA\"\n",
    "note = \"Hello World\".encode()\n",
    "amount = 1000000\n",
    "unsigned_txn = transaction.PaymentTxn(\"B7IVJH7QYV6DNRUDMSCKW3WSJE3COIHO4ZLKHFSR2MM7ZFFHYFZSDZUURQ\", params, receiver, amount, None, note)\n"
   ]
  },
  {
   "cell_type": "markdown",
   "id": "dbaec49f",
   "metadata": {},
   "source": [
    "* Sign first transaction"
   ]
  },
  {
   "cell_type": "code",
   "execution_count": 18,
   "id": "532e53b1",
   "metadata": {},
   "outputs": [],
   "source": [
    "# sign transaction\n",
    "signed_txn = unsigned_txn.sign(\"cR/KnsLyAw1Xmms+RusrtzFHyT/IbsIYl43kJMmsX/IP0VSf8MV8NsaDZISrbtJJNicg7uZWo5ZR0xn8lKfBcw==\")\n"
   ]
  },
  {
   "cell_type": "code",
   "execution_count": null,
   "id": "04423476",
   "metadata": {},
   "outputs": [],
   "source": []
  }
 ],
 "metadata": {
  "kernelspec": {
   "display_name": "Python 3 (ipykernel)",
   "language": "python",
   "name": "python3"
  },
  "language_info": {
   "codemirror_mode": {
    "name": "ipython",
    "version": 3
   },
   "file_extension": ".py",
   "mimetype": "text/x-python",
   "name": "python",
   "nbconvert_exporter": "python",
   "pygments_lexer": "ipython3",
   "version": "3.10.4"
  }
 },
 "nbformat": 4,
 "nbformat_minor": 5
}
